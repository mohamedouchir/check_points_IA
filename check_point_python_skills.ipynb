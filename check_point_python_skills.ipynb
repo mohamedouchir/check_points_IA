{
 "cells": [
  {
   "cell_type": "markdown",
   "id": "f9a491ec",
   "metadata": {},
   "source": [
    "# Question:1"
   ]
  },
  {
   "cell_type": "code",
   "execution_count": 1,
   "id": "b70ed5b2",
   "metadata": {},
   "outputs": [],
   "source": [
    "list_1=[i for i in range(2000,3201)]"
   ]
  },
  {
   "cell_type": "code",
   "execution_count": 2,
   "id": "7156f3ed",
   "metadata": {},
   "outputs": [],
   "source": [
    "list_2=[]\n",
    "for i in list_1:\n",
    "    if i%7==0 and i%5!=0:\n",
    "        list_2.append(i)"
   ]
  },
  {
   "cell_type": "markdown",
   "id": "450cddd9",
   "metadata": {},
   "source": [
    "# Question :2"
   ]
  },
  {
   "cell_type": "code",
   "execution_count": 3,
   "id": "aed0ecc0",
   "metadata": {},
   "outputs": [],
   "source": [
    "def factoriel(n):\n",
    "    p=1\n",
    "    if n==0:\n",
    "        return print(p)\n",
    "    elif n>0:\n",
    "        for i in range(1,n+1):\n",
    "            p=p*i\n",
    "        return print(p)\n",
    "    else:\n",
    "        return print(\"n must be positive integer \")\n",
    "        \n",
    "        "
   ]
  },
  {
   "cell_type": "markdown",
   "id": "7c5a703f",
   "metadata": {},
   "source": [
    "# Question :3 \n",
    "\n"
   ]
  },
  {
   "cell_type": "code",
   "execution_count": 4,
   "id": "3f0ad926",
   "metadata": {},
   "outputs": [],
   "source": [
    "def dic():\n",
    "    n=int(input(\"enter integer number n:\"))\n",
    "    dict_1={}\n",
    "    for i in range(1,n+1):\n",
    "        dict_1[i]=i*i\n",
    "    print(dict_1)"
   ]
  },
  {
   "cell_type": "code",
   "execution_count": 5,
   "id": "8e9acf1e",
   "metadata": {},
   "outputs": [
    {
     "name": "stdout",
     "output_type": "stream",
     "text": [
      "enter integer number n:5\n",
      "{1: 1, 2: 4, 3: 9, 4: 16, 5: 25}\n"
     ]
    }
   ],
   "source": [
    "dic()"
   ]
  },
  {
   "cell_type": "markdown",
   "id": "22e42f4d",
   "metadata": {},
   "source": [
    "# Question :4"
   ]
  },
  {
   "cell_type": "code",
   "execution_count": 6,
   "id": "76ddc600",
   "metadata": {},
   "outputs": [],
   "source": [
    "def str_1():\n",
    "    char=input(\"enter non-empty string:\")\n",
    "    n=int(input(\"enter number:\"))\n",
    "    if n<= len(char)-1:\n",
    "        char_1=list(char)\n",
    "        char_1.pop(n)\n",
    "        char_2=\"\".join(char_1)\n",
    "        print(char_2)\n",
    "    else:\n",
    "        print(\"The value of n will be a valid index of a char in the original string\")\n"
   ]
  },
  {
   "cell_type": "code",
   "execution_count": 7,
   "id": "c0b44236",
   "metadata": {},
   "outputs": [
    {
     "name": "stdout",
     "output_type": "stream",
     "text": [
      "enter non-empty string:mohamed\n",
      "enter number:6\n",
      "mohame\n"
     ]
    }
   ],
   "source": [
    "str_1()"
   ]
  },
  {
   "cell_type": "markdown",
   "id": "9dffe80b",
   "metadata": {},
   "source": [
    "# Question: 5 \n",
    "\n"
   ]
  },
  {
   "cell_type": "code",
   "execution_count": 8,
   "id": "6361c061",
   "metadata": {},
   "outputs": [],
   "source": [
    "import numpy as np"
   ]
  },
  {
   "cell_type": "code",
   "execution_count": 9,
   "id": "bb37073d",
   "metadata": {},
   "outputs": [
    {
     "name": "stdout",
     "output_type": "stream",
     "text": [
      "[[0 1]\n",
      " [2 3]\n",
      " [4 5]]\n"
     ]
    }
   ],
   "source": [
    "A=np.array([[0,1],[2,3],[4,5]])\n",
    "print(A)"
   ]
  },
  {
   "cell_type": "code",
   "execution_count": 10,
   "id": "66b3c515",
   "metadata": {},
   "outputs": [],
   "source": [
    "list_1=A.tolist()\n"
   ]
  },
  {
   "cell_type": "markdown",
   "id": "30573182",
   "metadata": {},
   "source": [
    "# Question 6\n",
    "\n"
   ]
  },
  {
   "cell_type": "code",
   "execution_count": 11,
   "id": "be87d249",
   "metadata": {},
   "outputs": [
    {
     "data": {
      "text/plain": [
       "array([[ 1., -1.],\n",
       "       [-1.,  1.]])"
      ]
     },
     "execution_count": 11,
     "metadata": {},
     "output_type": "execute_result"
    }
   ],
   "source": [
    "A=np.array([0,1,2])\n",
    "B=np.array([2,1,0])\n",
    "C=np.vstack((A,B))\n",
    "np.cov(C)"
   ]
  },
  {
   "cell_type": "markdown",
   "id": "0d42e55e",
   "metadata": {},
   "source": [
    "# Question 7\n",
    "\n"
   ]
  },
  {
   "cell_type": "code",
   "execution_count": 12,
   "id": "208f7ba4",
   "metadata": {},
   "outputs": [],
   "source": [
    "import math as mt\n",
    "def calculate_Q(C=50,H=30):\n",
    "    D=input(\"enter the values of D:\").split(\",\")\n",
    "    q=[]\n",
    "    for i in D:\n",
    "        q.append(str(int(mt.sqrt((2 * C * int(i))/H))))\n",
    "    Q=\",\".join(q)\n",
    "    print(Q)\n",
    "\n",
    "        \n",
    "    \n",
    "        \n",
    "        \n",
    "    \n",
    "    "
   ]
  },
  {
   "cell_type": "code",
   "execution_count": 13,
   "id": "655fc746",
   "metadata": {},
   "outputs": [
    {
     "name": "stdout",
     "output_type": "stream",
     "text": [
      "enter the values of D:100,150,180\n",
      "18,22,24\n"
     ]
    }
   ],
   "source": [
    "calculate_Q()"
   ]
  },
  {
   "cell_type": "code",
   "execution_count": null,
   "id": "915a90bf",
   "metadata": {},
   "outputs": [],
   "source": []
  }
 ],
 "metadata": {
  "kernelspec": {
   "display_name": "Python 3 (ipykernel)",
   "language": "python",
   "name": "python3"
  },
  "language_info": {
   "codemirror_mode": {
    "name": "ipython",
    "version": 3
   },
   "file_extension": ".py",
   "mimetype": "text/x-python",
   "name": "python",
   "nbconvert_exporter": "python",
   "pygments_lexer": "ipython3",
   "version": "3.9.13"
  }
 },
 "nbformat": 4,
 "nbformat_minor": 5
}
